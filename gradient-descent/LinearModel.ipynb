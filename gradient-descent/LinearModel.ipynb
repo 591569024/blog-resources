{
 "cells": [
  {
   "cell_type": "code",
   "execution_count": 1,
   "metadata": {},
   "outputs": [],
   "source": [
    "import numpy as np\n",
    "import pandas as pd\n",
    "import matplotlib.pyplot as plt\n",
    "import os"
   ]
  },
  {
   "cell_type": "code",
   "execution_count": 2,
   "metadata": {},
   "outputs": [
    {
     "name": "stdout",
     "output_type": "stream",
     "text": [
      "      MLS            Location     Price  Bedrooms  Bathrooms  Size  \\\n",
      "0  132842       Arroyo Grande  795000.0         3          3  2371   \n",
      "1  134364         Paso Robles  399000.0         4          3  2818   \n",
      "2  135141         Paso Robles  545000.0         4          3  3032   \n",
      "3  135712           Morro Bay  909000.0         4          4  3540   \n",
      "4  136282  Santa Maria-Orcutt  109900.0         3          1  1249   \n",
      "\n",
      "   Price/SQ.Ft      Status  \n",
      "0       335.30  Short Sale  \n",
      "1       141.59  Short Sale  \n",
      "2       179.75  Short Sale  \n",
      "3       256.78  Short Sale  \n",
      "4        87.99  Short Sale  \n"
     ]
    }
   ],
   "source": [
    "# read the Houses dataset CSV file\n",
    "housing_data = pd.read_csv(\"./RealEstate.csv\", sep=\",\")\n",
    "print(housing_data[0:5])"
   ]
  },
  {
   "cell_type": "code",
   "execution_count": 3,
   "metadata": {},
   "outputs": [
    {
     "name": "stdout",
     "output_type": "stream",
     "text": [
      "Size shape: (781, 1)\n",
      "Price shape: (781, 1)\n",
      "Size: 781\n"
     ]
    }
   ],
   "source": [
    "# only get the Size and the Price features\n",
    "Xs = housing_data[['Size']]\n",
    "Ys = housing_data[['Price']]\n",
    "print(\"Size shape:\", Xs.shape)\n",
    "print(\"Price shape:\", Ys.shape)\n",
    "dataset_size = Xs.shape[0]\n",
    "print(\"Size:\", dataset_size)"
   ]
  },
  {
   "cell_type": "code",
   "execution_count": 4,
   "metadata": {},
   "outputs": [
    {
     "data": {
      "text/plain": [
       "[<matplotlib.lines.Line2D at 0x7f46cfd07630>]"
      ]
     },
     "execution_count": 4,
     "metadata": {},
     "output_type": "execute_result"
    },
    {
     "data": {
      "image/png": "[encoded data removed]",
      "text/plain": [
       "<Figure size 432x288 with 1 Axes>"
      ]
     },
     "metadata": {},
     "output_type": "display_data"
    }
   ],
   "source": [
    "# plot the price and the size\n",
    "plt.plot(Xs, Ys, 'ro')"
   ]
  },
  {
   "cell_type": "code",
   "execution_count": 5,
   "metadata": {},
   "outputs": [],
   "source": [
    "Xs = Xs.values.squeeze()\n",
    "Ys = Ys.values.squeeze()"
   ]
  },
  {
   "cell_type": "code",
   "execution_count": 6,
   "metadata": {},
   "outputs": [],
   "source": [
    "# Normalize the input features using min max normallization\n",
    "max_size = np.max(Xs)\n",
    "min_size = np.min(Xs)\n",
    "max_price = np.max(Ys)\n",
    "min_price = np.min(Ys)"
   ]
  },
  {
   "cell_type": "code",
   "execution_count": 7,
   "metadata": {},
   "outputs": [],
   "source": [
    "Xs = (Xs - min_size) / (max_size - min_size)\n",
    "Ys = (Ys - min_price) / (max_price - min_price)"
   ]
  },
  {
   "cell_type": "code",
   "execution_count": 8,
   "metadata": {},
   "outputs": [],
   "source": [
    "# separate dataset into 80% for training and 20% for testing\n",
    "train_size = int(0.8 * dataset_size)\n",
    "Xs_train = Xs[0:train_size]\n",
    "Xs_test = Xs[train_size:]\n",
    "Ys_train = Ys[0:train_size]\n",
    "Ys_test = Ys[train_size:]"
   ]
  },
  {
   "cell_type": "code",
   "execution_count": 9,
   "metadata": {},
   "outputs": [
    {
     "data": {
      "text/plain": [
       "Text(0,0.5,'Price')"
      ]
     },
     "execution_count": 9,
     "metadata": {},
     "output_type": "execute_result"
    },
    {
     "data": {
      "image/png": "[encoded data removed]",
      "text/plain": [
       "<Figure size 432x288 with 1 Axes>"
      ]
     },
     "metadata": {},
     "output_type": "display_data"
    }
   ],
   "source": [
    "# plot the price and the size\n",
    "fig = plt.figure()\n",
    "fig.suptitle('Normalized housing Size/Price dataset', fontsize=14, fontweight='bold')\n",
    "ax = fig.add_subplot(111)\n",
    "fig.subplots_adjust(top=0.85)\n",
    "ax.plot(Xs_train, Ys_train, 'ro')\n",
    "ax.set_xlabel('Size')\n",
    "ax.set_ylabel('Price')"
   ]
  },
  {
   "cell_type": "code",
   "execution_count": 10,
   "metadata": {},
   "outputs": [],
   "source": [
    "min_x = np.min(Xs_train)\n",
    "max_x = np.max(Xs_train)"
   ]
  },
  {
   "cell_type": "code",
   "execution_count": 11,
   "metadata": {},
   "outputs": [
    {
     "name": "stdout",
     "output_type": "stream",
     "text": [
      "-0.004256504299469714 -0.0013834691173605252\n"
     ]
    }
   ],
   "source": [
    "# Define the Linear model\n",
    "# Initialize the weights using a normal (Gaussian) distribution with 0 mean and unit variance\n",
    "W0 = np.random.normal(loc=0, scale=0.02) # Y intercept\n",
    "W1 = np.random.normal(loc=0, scale=0.02) # Slop of the line\n",
    "print(W0, W1)"
   ]
  },
  {
   "cell_type": "code",
   "execution_count": 12,
   "metadata": {},
   "outputs": [],
   "source": [
    "def next_batch(Xs, Ys, batch_size=64):\n",
    "    # provides new batches for training and testing \n",
    "    # after each epoch, shuffle the dataset records\n",
    "    p = np.random.permutation(len(Xs))\n",
    "    Xs = Xs[p]\n",
    "    Ys = Ys[p]\n",
    "    for i in range(0,Xs.shape[0],batch_size):\n",
    "        yield Xs[i:i+batch_size], Ys[i:i+batch_size]"
   ]
  },
  {
   "cell_type": "code",
   "execution_count": 22,
   "metadata": {},
   "outputs": [],
   "source": [
    "def eval_and_plot(W0, W1, min_x, max_x, id_):\n",
    "    min_y = W0 + np.dot(W1, min_x)\n",
    "    max_y = W0 + np.dot(W1, max_x)\n",
    "    plt.plot(Xs_train, Ys_train, 'ro')\n",
    "    plt.plot([min_x, max_x], [min_y, max_y], 'k-', lw=2)\n",
    "    plt.savefig(\"./media/fit%(number)04d.png\" % {\"number\": id_})\n",
    "    plt.show()"
   ]
  },
  {
   "cell_type": "code",
   "execution_count": 14,
   "metadata": {},
   "outputs": [],
   "source": [
    "# defines the size of the step we want to perform in the direction of the gradient\n",
    "lr = 0.001\n",
    "\n",
    "# set the pocket weights\n",
    "W0_hat = np.inf\n",
    "W1_hat = np.inf\n",
    "best_hypothesis = np.inf\n",
    "\n",
    "err_test_list = []\n",
    "last_best_err = np.inf"
   ]
  },
  {
   "cell_type": "code",
   "execution_count": null,
   "metadata": {},
   "outputs": [],
   "source": [
    "for epoch in range(500):\n",
    "    for Xs_batch, Ys_batch in next_batch(Xs, Ys, batch_size=128):\n",
    "\n",
    "        # linearly combine input and weights\n",
    "        Y_pred = W0 + np.dot(W1, Xs_batch)\n",
    "\n",
    "        # calculate the SSE between predicted and true values\n",
    "        err = 1/2 * sum((Ys_batch-Y_pred)**2)\n",
    "\n",
    "        # calculate the gradients with respect to W0 and W1\n",
    "        DW0 = - (Y_pred-Ys_batch)\n",
    "        DW1 = - (Xs_batch * (Y_pred - Ys_batch))\n",
    "\n",
    "        # update W0 and W1 in the opposite direction to the gradient\n",
    "        W0 = W0 + lr * sum(DW0)\n",
    "        W1 = W1 + lr * sum(DW1)\n",
    "    \n",
    "    #only need for saving line hypothesis during training\n",
    "    #eval_and_plot(W0, W1, min_x, max_x, epoch+1)\n",
    "    \n",
    "    # test in the end of epoch\n",
    "    # test current hypothesis using the testing set\n",
    "    Y_pred = W0 + np.dot(W1, Xs_test)\n",
    "    err = 1/2 * sum((Ys_test-Y_pred)**2)\n",
    "    print(\"Epoch:\", epoch, \"Generalization err:\", err)\n",
    "    err_test_list.append(err)\n",
    "    \n",
    "    # only save the best parameters so far in training (pocket strategy)\n",
    "    last_best_err = err\n",
    "    epoch += 1\n",
    "    if err < best_hypothesis:\n",
    "        best_hypothesis = err\n",
    "        W0_hat = W0\n",
    "        W1_hat = W1"
   ]
  },
  {
   "cell_type": "code",
   "execution_count": 23,
   "metadata": {},
   "outputs": [
    {
     "data": {
      "image/png": "[encoded data removed]",
      "text/plain": [
       "<Figure size 432x288 with 1 Axes>"
      ]
     },
     "metadata": {},
     "output_type": "display_data"
    }
   ],
   "source": [
    "# best model hypothesis after training\n",
    "eval_and_plot(W0_hat, W1_hat, min_x, max_x, epoch+1)"
   ]
  },
  {
   "cell_type": "code",
   "execution_count": 19,
   "metadata": {},
   "outputs": [
    {
     "data": {
      "image/png": "[encoded data removed]",
      "text/plain": [
       "<Figure size 432x288 with 1 Axes>"
      ]
     },
     "metadata": {},
     "output_type": "display_data"
    }
   ],
   "source": [
    "# plot loss/epoch curve\n",
    "plt.plot(err_test_list)\n",
    "plt.xlabel('Epochs')\n",
    "plt.ylabel('Loss')\n",
    "plt.show()"
   ]
  },
  {
   "cell_type": "code",
   "execution_count": null,
   "metadata": {},
   "outputs": [],
   "source": []
  }
 ],
 "metadata": {
  "kernelspec": {
   "display_name": "Python 3",
   "language": "python",
   "name": "python3"
  },
  "language_info": {
   "codemirror_mode": {
    "name": "ipython",
    "version": 3
   },
   "file_extension": ".py",
   "mimetype": "text/x-python",
   "name": "python",
   "nbconvert_exporter": "python",
   "pygments_lexer": "ipython3",
   "version": "3.5.2"
  }
 },
 "nbformat": 4,
 "nbformat_minor": 2
}
